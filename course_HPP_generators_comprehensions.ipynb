{
 "cells": [
  {
   "cell_type": "code",
   "execution_count": 1,
   "metadata": {},
   "outputs": [
    {
     "data": {
      "text/plain": [
       "[1, 4, 9, 16, 25]"
      ]
     },
     "execution_count": 1,
     "metadata": {},
     "output_type": "execute_result"
    }
   ],
   "source": [
    "# Better use comprehension list\n",
    "# you can use it as a filter\n",
    "a = [1, 2, 3, 4, 5]\n",
    "squares = [x**2 for x in a]# Comprehension list\n",
    "squares"
   ]
  },
  {
   "cell_type": "code",
   "execution_count": 3,
   "metadata": {},
   "outputs": [
    {
     "data": {
      "text/plain": [
       "[1, 4, 9, 16, 25]"
      ]
     },
     "execution_count": 3,
     "metadata": {},
     "output_type": "execute_result"
    }
   ],
   "source": [
    "a = [1, 2, 3, 4, 5]\n",
    "squares = map(lambda x: x**2,a) # this is generator\n",
    "list(squares)"
   ]
  },
  {
   "cell_type": "code",
   "execution_count": 8,
   "metadata": {},
   "outputs": [
    {
     "name": "stdout",
     "output_type": "stream",
     "text": [
      "[4, 16]\n",
      "[4, 16]\n"
     ]
    },
    {
     "data": {
      "text/plain": [
       "[4, 16]"
      ]
     },
     "execution_count": 8,
     "metadata": {},
     "output_type": "execute_result"
    }
   ],
   "source": [
    "# filter\n",
    "\n",
    "#c l\n",
    "squares = [x**2 for x in a if x%2 == 0]\n",
    "\n",
    "#map and filter\n",
    "alt = map(lambda x: x**2,filter(lambda x: x%2==0,a))\n",
    "\n",
    "print(squares)\n",
    "print(list(alt))\n",
    "\n",
    "map_func = lambda x: x**2\n",
    "filter_func = lambda x: x%2==0\n",
    "alt = map(map_func,filter(filter_func,a))\n",
    "list(alt)"
   ]
  },
  {
   "cell_type": "code",
   "execution_count": 9,
   "metadata": {},
   "outputs": [
    {
     "data": {
      "text/plain": [
       "{5, 7, 8}"
      ]
     },
     "execution_count": 9,
     "metadata": {},
     "output_type": "execute_result"
    }
   ],
   "source": [
    "chile_ranks = {'ghost':1,'habanero':2,'cayenne':3}\n",
    "\n",
    "chile_len_set = {len(name) for name in chile_ranks.keys()}\n",
    "chile_len_set"
   ]
  },
  {
   "cell_type": "code",
   "execution_count": 12,
   "metadata": {},
   "outputs": [
    {
     "data": {
      "text/plain": [
       "[1, 2, 3, 1, 2, 3, 1, 2, 3]"
      ]
     },
     "execution_count": 12,
     "metadata": {},
     "output_type": "execute_result"
    }
   ],
   "source": [
    "# AVOID MORE THAN TWO EXPRESSIONS\n",
    "\n",
    "matrix=  [[1,2,3],[1,2,3],[1,2,3]]\n",
    "flat = [x for row in matrix for x in row]\n",
    "flat"
   ]
  },
  {
   "cell_type": "code",
   "execution_count": 13,
   "metadata": {},
   "outputs": [
    {
     "data": {
      "text/plain": [
       "[[1, 4, 9], [1, 4, 9], [1, 4, 9]]"
      ]
     },
     "execution_count": 13,
     "metadata": {},
     "output_type": "execute_result"
    }
   ],
   "source": [
    "# two levels of list\n",
    "matrix=  [[1,2,3],[1,2,3],[1,2,3]]\n",
    "square = [[x**2 for x in row] for row in matrix]\n",
    "square"
   ]
  },
  {
   "cell_type": "code",
   "execution_count": 15,
   "metadata": {},
   "outputs": [
    {
     "data": {
      "text/plain": [
       "[[6], [9]]"
      ]
     },
     "execution_count": 15,
     "metadata": {},
     "output_type": "execute_result"
    }
   ],
   "source": [
    "# row that only sum 10\n",
    "matrix=  [[1,2,3],[4,5,6],[7,8,9]]\n",
    "\n",
    "filtered = [\n",
    "    [x for x in row if x%3 ==0]\n",
    "    for row in matrix if sum(row)>10\n",
    "]\n",
    "filtered"
   ]
  },
  {
   "cell_type": "code",
   "execution_count": 3,
   "metadata": {},
   "outputs": [
    {
     "name": "stdout",
     "output_type": "stream",
     "text": [
      "[50, 60, 61, 99, 23, 13, 100, 101, 57, 52]\n",
      "50\n",
      "60\n"
     ]
    }
   ],
   "source": [
    "\n",
    "## GENERATOR EXPRESIONS FOR LARGE COMPREHENSIONS\n",
    "\n",
    "# Generator is a iterator\n",
    "# list comprehensions gives you all at one time\n",
    "\n",
    "import random\n",
    "with open('/tmp/my_file.txt','w') as f:\n",
    "    for _ in range(10):\n",
    "        f.write('a'*random.randint(0,100))\n",
    "        f.write('\\n')\n",
    "\n",
    "# List comprehension\n",
    "print([len(x) for x in open('/tmp/my_file.txt')])\n",
    "\n",
    "# Generator\n",
    "value = (len(x) for x in open('/tmp/my_file.txt'))\n",
    "\n",
    "print(next(value))\n",
    "print(next(value))"
   ]
  },
  {
   "cell_type": "code",
   "execution_count": 4,
   "metadata": {},
   "outputs": [
    {
     "name": "stdout",
     "output_type": "stream",
     "text": [
      "(50, 7.0710678118654755)\n",
      "(60, 7.745966692414834)\n"
     ]
    }
   ],
   "source": [
    "it = (len(x) for x in open('/tmp/my_file.txt'))\n",
    "roots = ((x,x**0.5) for x in it)\n",
    "\n",
    "print(next(roots)) # just in time\n",
    "print(next(roots))"
   ]
  },
  {
   "cell_type": "code",
   "execution_count": 10,
   "metadata": {},
   "outputs": [
    {
     "name": "stdout",
     "output_type": "stream",
     "text": [
      "[0, 5, 8, 15, 18, 28, 35, 43, 55, 58, 61]\n"
     ]
    }
   ],
   "source": [
    "## CONSIDER GENERATORS INSTEAD OF RETURNING LISTS\n",
    "\n",
    "text = \"Hola mi nombre es francisco duran, estudio mecatronica en la UNAM\"\n",
    "a = enumerate(text) # [(0, 'H'), (1, 'o')...\n",
    "\n",
    "# This requires all results to be stored on a list, \n",
    "# for huge inputs, this will cause memory crash\n",
    "def index_words(text): \n",
    "    result = []\n",
    "    if text:\n",
    "        result.append(0)\n",
    "    for index,letter in enumerate(text):\n",
    "        if letter == ' ':\n",
    "            result.append(index+1)\n",
    "    return result\n",
    "\n",
    "result = index_words(text)\n",
    "print(result)"
   ]
  },
  {
   "cell_type": "code",
   "execution_count": 15,
   "metadata": {},
   "outputs": [
    {
     "name": "stdout",
     "output_type": "stream",
     "text": [
      "<generator object index_words at 0x0000014EF71104A0>\n",
      "0\n",
      "5\n",
      "[8, 15, 18, 28, 35, 43, 55, 58, 61]\n"
     ]
    }
   ],
   "source": [
    "def index_words(text):\n",
    "    if text:\n",
    "        yield 0\n",
    "    for index,letter in enumerate(text):\n",
    "        if letter == ' ':\n",
    "            yield index+1\n",
    "\n",
    "result = index_words(text)\n",
    "print(result)\n",
    "#print(list(result)) # Materialize the entire iterator\n",
    "print(next(result)) # One by one\n",
    "print(next(result))\n",
    "print(list(result))"
   ]
  },
  {
   "cell_type": "code",
   "execution_count": null,
   "metadata": {},
   "outputs": [],
   "source": [
    "##\n",
    "# when a function takes a list as parameter is important to iterate"
   ]
  }
 ],
 "metadata": {
  "kernelspec": {
   "display_name": "Python 3",
   "language": "python",
   "name": "python3"
  },
  "language_info": {
   "codemirror_mode": {
    "name": "ipython",
    "version": 3
   },
   "file_extension": ".py",
   "mimetype": "text/x-python",
   "name": "python",
   "nbconvert_exporter": "python",
   "pygments_lexer": "ipython3",
   "version": "3.8.3"
  }
 },
 "nbformat": 4,
 "nbformat_minor": 4
}
