{
 "cells": [
  {
   "cell_type": "markdown",
   "metadata": {},
   "source": [
    "# Best practices\n",
    "\n",
    "Create classes for a scalable code and more easy to mantain code"
   ]
  },
  {
   "cell_type": "code",
   "execution_count": null,
   "metadata": {},
   "outputs": [],
   "source": [
    "def main():\n",
    "    print(\"Hello World!\")\n",
    "\n",
    "if __name__ == \"__main__\":\n",
    "    main()\n"
   ]
  },
  {
   "cell_type": "code",
   "execution_count": 1,
   "metadata": {},
   "outputs": [],
   "source": [
    "# Create instances attributes for a better readable code\n",
    "# Instance attributes with None if you're not initializing them\n",
    "# Instance attributes format: lower case and snake case style (first_name)\n",
    "\n",
    "class Student:\n",
    "    def __init__(self, first_name, last_name):\n",
    "        self.first_name = first_name\n",
    "        self.last_name = last_name\n",
    "        self.status_verified = None\n",
    "        self.guardian = None"
   ]
  },
  {
   "cell_type": "code",
   "execution_count": 2,
   "metadata": {},
   "outputs": [],
   "source": [
    "# Instance methods, if they concern to the proper instances\n",
    "def do_something(self):\n",
    "    print(ds)"
   ]
  },
  {
   "cell_type": "markdown",
   "metadata": {},
   "source": [
    "## Class methods and static methods\n",
    "\n",
    "that class methods allow you to access or update attributes related to the class, while static methods are independent of any instance or the class itself.\n",
    "\n",
    "## Class attributes\n",
    "They are shared by all instances"
   ]
  },
  {
   "cell_type": "code",
   "execution_count": 3,
   "metadata": {},
   "outputs": [],
   "source": [
    "class Student:\n",
    "    def __init__(self, first_name, last_name, student_id):\n",
    "        self.first_name = first_name\n",
    "        self.last_name = last_name\n",
    "        self.student_id = student_id\n",
    "        self.account = Account(self.student_id)\n",
    "\n",
    "    def check_account_balance(self):\n",
    "        return self.account.get_balance()\n",
    "\n",
    "    def load_money(self, amount):\n",
    "        self.account.load_money(amount)\n",
    "\n",
    "\n",
    "class Account:\n",
    "    def __init__(self, student_id):\n",
    "        self.student_id = student_id\n",
    "        # get additional information from the database\n",
    "        self.balance = 400\n",
    "\n",
    "    def get_balance(self):\n",
    "        # Theoretically, student.account.balance will work, but just in case\n",
    "        # we need to have additional steps to check, such as query the database\n",
    "        # again to make sure the data is up to date\n",
    "        return self.balance\n",
    "\n",
    "    def load_money(self, amount):\n",
    "        # get the balance from the database\n",
    "        self.balance += amount\n",
    "        self.save_to_database()"
   ]
  },
  {
   "cell_type": "code",
   "execution_count": null,
   "metadata": {},
   "outputs": [],
   "source": [
    "# Verifying type of data in arguments\n",
    "def greeting(name: str) -> str:\n",
    "    return 'Hello ' + name\n",
    "\n",
    "#takes and return a string"
   ]
  },
  {
   "cell_type": "code",
   "execution_count": null,
   "metadata": {},
   "outputs": [],
   "source": []
  }
 ],
 "metadata": {
  "kernelspec": {
   "display_name": "Python 3",
   "language": "python",
   "name": "python3"
  },
  "language_info": {
   "codemirror_mode": {
    "name": "ipython",
    "version": 3
   },
   "file_extension": ".py",
   "mimetype": "text/x-python",
   "name": "python",
   "nbconvert_exporter": "python",
   "pygments_lexer": "ipython3",
   "version": "3.8.3"
  }
 },
 "nbformat": 4,
 "nbformat_minor": 4
}
