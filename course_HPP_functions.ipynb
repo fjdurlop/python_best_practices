{
 "cells": [
  {
   "cell_type": "code",
   "execution_count": 1,
   "metadata": {},
   "outputs": [
    {
     "name": "stdout",
     "output_type": "stream",
     "text": [
      "10\n",
      "5\n",
      "25\n"
     ]
    },
    {
     "ename": "NameError",
     "evalue": "name 'bar' is not defined",
     "output_type": "error",
     "traceback": [
      "\u001b[1;31m---------------------------------------------------------------------------\u001b[0m",
      "\u001b[1;31mNameError\u001b[0m                                 Traceback (most recent call last)",
      "\u001b[1;32m<ipython-input-1-7023a27d9114>\u001b[0m in \u001b[0;36m<module>\u001b[1;34m\u001b[0m\n\u001b[0;32m     15\u001b[0m     \u001b[0mprint\u001b[0m\u001b[1;33m(\u001b[0m\u001b[0mbar\u001b[0m\u001b[1;33m)\u001b[0m\u001b[1;33m\u001b[0m\u001b[1;33m\u001b[0m\u001b[0m\n\u001b[0;32m     16\u001b[0m \u001b[1;33m\u001b[0m\u001b[0m\n\u001b[1;32m---> 17\u001b[1;33m \u001b[0menclosing\u001b[0m\u001b[1;33m(\u001b[0m\u001b[1;33m)\u001b[0m\u001b[1;33m\u001b[0m\u001b[1;33m\u001b[0m\u001b[0m\n\u001b[0m",
      "\u001b[1;32m<ipython-input-1-7023a27d9114>\u001b[0m in \u001b[0;36menclosing\u001b[1;34m()\u001b[0m\n\u001b[0;32m     13\u001b[0m     \u001b[0mmy_func\u001b[0m\u001b[1;33m(\u001b[0m\u001b[1;33m)\u001b[0m\u001b[1;33m\u001b[0m\u001b[1;33m\u001b[0m\u001b[0m\n\u001b[0;32m     14\u001b[0m     \u001b[0mprint\u001b[0m\u001b[1;33m(\u001b[0m\u001b[0mfoo\u001b[0m\u001b[1;33m)\u001b[0m\u001b[1;33m\u001b[0m\u001b[1;33m\u001b[0m\u001b[0m\n\u001b[1;32m---> 15\u001b[1;33m     \u001b[0mprint\u001b[0m\u001b[1;33m(\u001b[0m\u001b[0mbar\u001b[0m\u001b[1;33m)\u001b[0m\u001b[1;33m\u001b[0m\u001b[1;33m\u001b[0m\u001b[0m\n\u001b[0m\u001b[0;32m     16\u001b[0m \u001b[1;33m\u001b[0m\u001b[0m\n\u001b[0;32m     17\u001b[0m \u001b[0menclosing\u001b[0m\u001b[1;33m(\u001b[0m\u001b[1;33m)\u001b[0m\u001b[1;33m\u001b[0m\u001b[1;33m\u001b[0m\u001b[0m\n",
      "\u001b[1;31mNameError\u001b[0m: name 'bar' is not defined"
     ]
    }
   ],
   "source": [
    "# SCOPE FUNCTIONS\n",
    "\n",
    "def enclosing():\n",
    "    foo = 15\n",
    "    foo = 25\n",
    "    \n",
    "    def my_func():\n",
    "        foo = 10  \n",
    "        bar = 5\n",
    "        print(foo)\n",
    "        print(bar)\n",
    "        \n",
    "    my_func()\n",
    "    print(foo) # It takes the value of the scope\n",
    "    print(bar)\n",
    "    \n",
    "enclosing()\n"
   ]
  },
  {
   "cell_type": "code",
   "execution_count": 2,
   "metadata": {},
   "outputs": [
    {
     "name": "stdout",
     "output_type": "stream",
     "text": [
      "True\n",
      "[2, 3, 5, 7, 1, 4, 6, 8]\n"
     ]
    }
   ],
   "source": [
    "# nonlocal: assign a nonlocal definition\n",
    "\n",
    "numbers = [8,3,1,2,5,4,7,6]\n",
    "group = {2,3,5,7}\n",
    "\n",
    "def sort_priority(numbers,group):\n",
    "    found = False\n",
    "    def helper(x):\n",
    "        nonlocal found # assign nonlocal definition\n",
    "        if x in group:\n",
    "            found = True\n",
    "            return (0,x)\n",
    "        return (1,x)\n",
    "    numbers.sort(key = helper)\n",
    "    return found\n",
    "\n",
    "print(sort_priority(numbers,group))\n",
    "print(numbers)\n"
   ]
  },
  {
   "cell_type": "code",
   "execution_count": 8,
   "metadata": {},
   "outputs": [
    {
     "name": "stdout",
     "output_type": "stream",
     "text": [
      "My numbers are: [1, 2, 3]\n",
      "My numbers are: 1, 2, 3\n",
      "My numbers 2: []\n",
      "My fav are: [5, 4, 6]\n",
      "My fav are: 5, 4, 6\n"
     ]
    }
   ],
   "source": [
    "# Optional position parameter\n",
    "# Cannot add more positional parameters\n",
    "\n",
    "def log(message,*values):\n",
    "    if not values:\n",
    "        print(message)\n",
    "    else:\n",
    "        values_str = ', '.join(str(x) for x in values)\n",
    "        print('%s: %s'%(message,values_str))\n",
    "        \n",
    "log(\"My numbers are\",[1,2,3])\n",
    "log(\"My numbers are\",1,2,3)\n",
    "\n",
    "log(\"My numbers 2\",[])\n",
    "fav = [5,4,6]\n",
    "\n",
    "log(\"My fav are\",fav)\n",
    "log(\"My fav are\",*fav)"
   ]
  },
  {
   "cell_type": "code",
   "execution_count": 17,
   "metadata": {},
   "outputs": [
    {
     "data": {
      "text/plain": [
       "inf"
      ]
     },
     "execution_count": 17,
     "metadata": {},
     "output_type": "execute_result"
    }
   ],
   "source": [
    "# Keywords only parameters\n",
    "# After * you only can change parameters by keyword\n",
    "def safe_division(number, divisor, *,ignore_overflow=False, ignore_zero_division=False):\n",
    "    try:\n",
    "        return number/divisor\n",
    "    except OverflowError:\n",
    "        if ignore_overflow:\n",
    "            return 0\n",
    "        else:\n",
    "            raise\n",
    "    except ZeroDivisionError:\n",
    "        if ignore_zero_division:\n",
    "            return float('inf')\n",
    "        else:\n",
    "            raise\n",
    "\n",
    "safe_division(5,0, ignore_overflow=True, ignore_zero_division=True)"
   ]
  },
  {
   "cell_type": "code",
   "execution_count": 18,
   "metadata": {},
   "outputs": [
    {
     "name": "stdout",
     "output_type": "stream",
     "text": [
      "2021-05-23 17:05:40.330422: hello\n",
      "2021-05-23 17:05:40.330422: again\n"
     ]
    }
   ],
   "source": [
    "# SPECIFY DYNAMIC DEFAULT ARGUMENTS\n",
    "from time import sleep\n",
    "from datetime import datetime\n",
    "\n",
    "def log(message, when = datetime.now()): #This will assign only once the date\n",
    "    print('%s: %s' %(when,message))\n",
    "    \n",
    "log('hello')\n",
    "sleep(1)\n",
    "log('again')\n",
    "\n",
    "# This will print the same time because the assignation was on the paramter definition\n"
   ]
  },
  {
   "cell_type": "code",
   "execution_count": 20,
   "metadata": {},
   "outputs": [
    {
     "name": "stdout",
     "output_type": "stream",
     "text": [
      "2021-05-23 17:08:07.728975: hello\n",
      "2021-05-23 17:08:08.729373: again\n"
     ]
    }
   ],
   "source": [
    "def log(message, when = None):\n",
    "    \"\"\" Log a message at a certain time.\n",
    "    \n",
    "    Args:\n",
    "        message: Message to print.\n",
    "        when: datetime of when the message occurred.\n",
    "            Defaults to the present time\n",
    "    \n",
    "    \"\"\"\n",
    "    if when is None:\n",
    "        when = datetime.now()\n",
    "    print('%s: %s' %(when,message))\n",
    "    \n",
    "log('hello')\n",
    "sleep(1)\n",
    "log('again')\n"
   ]
  },
  {
   "cell_type": "code",
   "execution_count": null,
   "metadata": {},
   "outputs": [],
   "source": []
  }
 ],
 "metadata": {
  "kernelspec": {
   "display_name": "Python 3",
   "language": "python",
   "name": "python3"
  },
  "language_info": {
   "codemirror_mode": {
    "name": "ipython",
    "version": 3
   },
   "file_extension": ".py",
   "mimetype": "text/x-python",
   "name": "python",
   "nbconvert_exporter": "python",
   "pygments_lexer": "ipython3",
   "version": "3.8.3"
  }
 },
 "nbformat": 4,
 "nbformat_minor": 4
}
