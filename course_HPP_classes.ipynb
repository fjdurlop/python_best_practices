{
 "cells": [
  {
   "cell_type": "code",
   "execution_count": 2,
   "metadata": {},
   "outputs": [],
   "source": [
    "\n",
    "\n",
    "class Student:\n",
    "    schoolName = 'XYZ School' # class attribute\n",
    "\n",
    "    def __init__(self, name, age):\n",
    "        self.name=name # instance attribute\n",
    "        self.age=age # instance attribute\n"
   ]
  },
  {
   "cell_type": "code",
   "execution_count": 3,
   "metadata": {},
   "outputs": [],
   "source": [
    "\n",
    "\n",
    "class Student:\n",
    "    _schoolName = 'XYZ School' # protected class attribute\n",
    "    \n",
    "    def __init__(self, name, age):\n",
    "        self._name=name  # protected instance attribute\n",
    "        self._age=age # protected instance attribute\n",
    "\n"
   ]
  },
  {
   "cell_type": "code",
   "execution_count": 4,
   "metadata": {},
   "outputs": [],
   "source": [
    "\n",
    "\n",
    "class Student:\n",
    "    __schoolName = 'XYZ School' # private class attribute\n",
    "\n",
    "    def __init__(self, name, age):\n",
    "        self.__name=name  # private instance attribute\n",
    "        self.__salary=age # private instance attribute\n",
    "    def __display(self):  # private method\n",
    "\t    print('This is private method.')\n",
    "\n"
   ]
  },
  {
   "cell_type": "code",
   "execution_count": 1,
   "metadata": {},
   "outputs": [
    {
     "name": "stdout",
     "output_type": "stream",
     "text": [
      "81.5\n"
     ]
    }
   ],
   "source": [
    "# Prefer classes\n",
    "\n",
    "import collections\n",
    "\n",
    "Grade = collections.namedtuple('Grade',('score','weight'))\n",
    "\n",
    "class Subject(object):\n",
    "    def __init__(self):\n",
    "        self._grades = []\n",
    "    \n",
    "    def report_grade(self,score,weight):\n",
    "        self._grades.append(Grade(score,weight))\n",
    "        \n",
    "    def average_grade(self):\n",
    "        total, total_weight = 0,0\n",
    "        for grade in self._grades:\n",
    "            total += grade.score * grade.weight\n",
    "            total_weight += grade.weight\n",
    "        return total/total_weight\n",
    "    \n",
    "class Student(object):\n",
    "    def __init__(self):\n",
    "        self._subjects = {}\n",
    "    \n",
    "    def subject(self, name):\n",
    "        if name not in self._subjects:\n",
    "            self._subjects[name] = Subject()\n",
    "        return self._subjects[name]\n",
    "    \n",
    "    def average_grade(self):\n",
    "        total,count = 0,0\n",
    "        for subject in self._subjects.values():\n",
    "            total += subject.average_grade()\n",
    "            count += 1\n",
    "        return total/count\n",
    "\n",
    "class Gradebook(object):\n",
    "    def __init__(self):\n",
    "        self._students = {}\n",
    "        \n",
    "    def student(self,name):\n",
    "        if name not in self._students:\n",
    "            self._students[name] = Student()\n",
    "        return self._students[name]\n",
    "    \n",
    "book = Gradebook()\n",
    "\n",
    "albert = book.student('Albert Einstein')\n",
    "math = albert.subject('Math')\n",
    "math.report_grade(80,0.10)\n",
    "math.report_grade(80,0.10)\n",
    "math.report_grade(70,0.80)\n",
    "\n",
    "gym = albert.subject('Gym')\n",
    "gym.report_grade(100,0.40)\n",
    "gym.report_grade(85,0.60)\n",
    "\n",
    "print(albert.average_grade())\n"
   ]
  },
  {
   "cell_type": "code",
   "execution_count": 5,
   "metadata": {},
   "outputs": [],
   "source": [
    "# Use plain attributes instead of get and set methods\n",
    "\n"
   ]
  },
  {
   "cell_type": "code",
   "execution_count": 6,
   "metadata": {},
   "outputs": [],
   "source": [
    "# Prefer public attributes over private ones\n",
    "\n",
    "class MyObject(object):\n",
    "    def __init__(self):\n",
    "        self.public_field = 5 #public attribute\n",
    "        self.__private_field = 10 #private attribute\n",
    "        \n",
    "    def get_private_field(self):\n",
    "        return self.__private_field\n",
    "    \n",
    "foo = MyObject()"
   ]
  },
  {
   "cell_type": "code",
   "execution_count": 7,
   "metadata": {},
   "outputs": [
    {
     "data": {
      "text/plain": [
       "5"
      ]
     },
     "execution_count": 7,
     "metadata": {},
     "output_type": "execute_result"
    }
   ],
   "source": [
    "foo.public_field"
   ]
  },
  {
   "cell_type": "code",
   "execution_count": 8,
   "metadata": {},
   "outputs": [
    {
     "data": {
      "text/plain": [
       "10"
      ]
     },
     "execution_count": 8,
     "metadata": {},
     "output_type": "execute_result"
    }
   ],
   "source": [
    "foo.get_private_field()"
   ]
  },
  {
   "cell_type": "code",
   "execution_count": 9,
   "metadata": {},
   "outputs": [
    {
     "ename": "AttributeError",
     "evalue": "'MyObject' object has no attribute '__private_field'",
     "output_type": "error",
     "traceback": [
      "\u001b[1;31m---------------------------------------------------------------------------\u001b[0m",
      "\u001b[1;31mAttributeError\u001b[0m                            Traceback (most recent call last)",
      "\u001b[1;32m<ipython-input-9-a888a87e4048>\u001b[0m in \u001b[0;36m<module>\u001b[1;34m\u001b[0m\n\u001b[1;32m----> 1\u001b[1;33m \u001b[0mfoo\u001b[0m\u001b[1;33m.\u001b[0m\u001b[0m__private_field\u001b[0m\u001b[1;33m\u001b[0m\u001b[1;33m\u001b[0m\u001b[0m\n\u001b[0m",
      "\u001b[1;31mAttributeError\u001b[0m: 'MyObject' object has no attribute '__private_field'"
     ]
    }
   ],
   "source": [
    "foo.__private_field # cannot access"
   ]
  },
  {
   "cell_type": "code",
   "execution_count": 10,
   "metadata": {},
   "outputs": [],
   "source": [
    "# Understand private attribates\n",
    "class MyObject(object):\n",
    "    def __init__(self):\n",
    "        self.__private_field = 10 #private attribute\n",
    "        \n",
    "        \n",
    "class MyChildObject(MyObject):\n",
    "    def get_private_field(self):\n",
    "        return self.__private_field # python add name of the class + __private_field\n",
    "    \n",
    "foo = MyChildObject()\n"
   ]
  },
  {
   "cell_type": "code",
   "execution_count": 11,
   "metadata": {},
   "outputs": [
    {
     "ename": "AttributeError",
     "evalue": "'MyChildObject' object has no attribute '_MyChildObject__private_field'",
     "output_type": "error",
     "traceback": [
      "\u001b[1;31m---------------------------------------------------------------------------\u001b[0m",
      "\u001b[1;31mAttributeError\u001b[0m                            Traceback (most recent call last)",
      "\u001b[1;32m<ipython-input-11-d3dfe4028051>\u001b[0m in \u001b[0;36m<module>\u001b[1;34m\u001b[0m\n\u001b[1;32m----> 1\u001b[1;33m \u001b[0mfoo\u001b[0m\u001b[1;33m.\u001b[0m\u001b[0mget_private_field\u001b[0m\u001b[1;33m(\u001b[0m\u001b[1;33m)\u001b[0m\u001b[1;33m\u001b[0m\u001b[1;33m\u001b[0m\u001b[0m\n\u001b[0m",
      "\u001b[1;32m<ipython-input-10-dc2b922639c4>\u001b[0m in \u001b[0;36mget_private_field\u001b[1;34m(self)\u001b[0m\n\u001b[0;32m      7\u001b[0m \u001b[1;32mclass\u001b[0m \u001b[0mMyChildObject\u001b[0m\u001b[1;33m(\u001b[0m\u001b[0mMyObject\u001b[0m\u001b[1;33m)\u001b[0m\u001b[1;33m:\u001b[0m\u001b[1;33m\u001b[0m\u001b[1;33m\u001b[0m\u001b[0m\n\u001b[0;32m      8\u001b[0m     \u001b[1;32mdef\u001b[0m \u001b[0mget_private_field\u001b[0m\u001b[1;33m(\u001b[0m\u001b[0mself\u001b[0m\u001b[1;33m)\u001b[0m\u001b[1;33m:\u001b[0m\u001b[1;33m\u001b[0m\u001b[1;33m\u001b[0m\u001b[0m\n\u001b[1;32m----> 9\u001b[1;33m         \u001b[1;32mreturn\u001b[0m \u001b[0mself\u001b[0m\u001b[1;33m.\u001b[0m\u001b[0m__private_field\u001b[0m\u001b[1;33m\u001b[0m\u001b[1;33m\u001b[0m\u001b[0m\n\u001b[0m\u001b[0;32m     10\u001b[0m \u001b[1;33m\u001b[0m\u001b[0m\n\u001b[0;32m     11\u001b[0m \u001b[0mfoo\u001b[0m \u001b[1;33m=\u001b[0m \u001b[0mMyChildObject\u001b[0m\u001b[1;33m(\u001b[0m\u001b[1;33m)\u001b[0m\u001b[1;33m\u001b[0m\u001b[1;33m\u001b[0m\u001b[0m\n",
      "\u001b[1;31mAttributeError\u001b[0m: 'MyChildObject' object has no attribute '_MyChildObject__private_field'"
     ]
    }
   ],
   "source": [
    "foo.get_private_field()\n",
    "\"\"\"\n",
    "'MyChildObject' object has no attribute '_MyChildObject__private_field'\n",
    "\"\"\""
   ]
  },
  {
   "cell_type": "code",
   "execution_count": 12,
   "metadata": {},
   "outputs": [
    {
     "data": {
      "text/plain": [
       "10"
      ]
     },
     "execution_count": 12,
     "metadata": {},
     "output_type": "execute_result"
    }
   ],
   "source": [
    "foo._MyObject__private_field"
   ]
  },
  {
   "cell_type": "code",
   "execution_count": 13,
   "metadata": {},
   "outputs": [
    {
     "data": {
      "text/plain": [
       "{'_MyObject__private_field': 10}"
      ]
     },
     "execution_count": 13,
     "metadata": {},
     "output_type": "execute_result"
    }
   ],
   "source": [
    "foo.__dict__ #instance dictionary"
   ]
  },
  {
   "cell_type": "code",
   "execution_count": 16,
   "metadata": {},
   "outputs": [],
   "source": [
    "\n",
    "# @classmethod  polymorphism\n",
    "\n",
    "\"\"\"\n",
    "En resumen: Cuando se llama a este método, se pasa a la clase como primer \n",
    "argumento en lugar de la instancia de esa clase (como hacemos normalmente con métodos). Esto significa que \n",
    "puede utilizar la clase y sus propiedades dentro de ese método sin tener que instanciar la clase. \n",
    "\n",
    "Cuando vas a crear un objeto y no sabes que clase será\n",
    "\"\"\"\n",
    "\n",
    "class Clase:\n",
    "    @classmethod\n",
    "    def metodo2(cls, arg):\n",
    "        pass\n",
    "\n",
    "Clase.metodo2(\"argumento\")"
   ]
  },
  {
   "cell_type": "code",
   "execution_count": null,
   "metadata": {},
   "outputs": [],
   "source": [
    "# Ejemplo usando @classmethod\n",
    "from enum import Enum\n",
    "\n",
    "\n",
    "class Tamano(Enum):  # Una enumeracion es simplemente ponerle nombre a numeros\n",
    "    normal = 1\n",
    "    familiar = 2\n",
    "    xl = 3\n",
    "\n",
    "\n",
    "class Pizza:\n",
    "    def __init__(self, precio, tamano, ingredientes):\n",
    "        self.precio = precio\n",
    "        self.tamano = tamano\n",
    "        self.ingredientes = ingredientes\n",
    "\n",
    "    @classmethod\n",
    "    def napolitana(cls, tamano):\n",
    "        precio_napolitana = 8990 * tamano\n",
    "        ingredientes = ['Queso', 'Oregano', 'Tomate']\n",
    "        # Instanciamos 'cls' que es la clase Pizza\n",
    "        return cls(precio_napolitana, tamano, ingredientes)\n",
    "\n",
    "\n",
    "if __name__ == '__main__':\n",
    "    # Puedo crear pizzas 'a mano':\n",
    "    hawaiana = Pizza(9990, Tamano.normal, ['Tomate', 'Jamon', 'Pina'])\n",
    "\n",
    "    # Creamos una pizza con nuestro metodo de clase\n",
    "    napolitana = Pizza.napolitana(Tamano.familiar)"
   ]
  }
 ],
 "metadata": {
  "kernelspec": {
   "display_name": "Python 3",
   "language": "python",
   "name": "python3"
  },
  "language_info": {
   "codemirror_mode": {
    "name": "ipython",
    "version": 3
   },
   "file_extension": ".py",
   "mimetype": "text/x-python",
   "name": "python",
   "nbconvert_exporter": "python",
   "pygments_lexer": "ipython3",
   "version": "3.8.3"
  }
 },
 "nbformat": 4,
 "nbformat_minor": 4
}
