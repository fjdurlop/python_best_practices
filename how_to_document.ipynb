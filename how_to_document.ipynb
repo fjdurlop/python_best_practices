{
 "cells": [
  {
   "cell_type": "code",
   "execution_count": 4,
   "metadata": {},
   "outputs": [],
   "source": [
    "\n",
    "def my_function(par1):\n",
    "    \"\"\"\n",
    "    Comment of the function\n",
    "    \n",
    "    \"\"\"\n",
    "\n",
    "    return \"Return\""
   ]
  },
  {
   "cell_type": "code",
   "execution_count": 5,
   "metadata": {},
   "outputs": [
    {
     "data": {
      "text/plain": [
       "'\\n    Comment of the function\\n    \\n    '"
      ]
     },
     "execution_count": 5,
     "metadata": {},
     "output_type": "execute_result"
    }
   ],
   "source": [
    "my_function.__doc__"
   ]
  },
  {
   "cell_type": "code",
   "execution_count": 6,
   "metadata": {},
   "outputs": [
    {
     "name": "stdout",
     "output_type": "stream",
     "text": [
      "Help on function my_function in module __main__:\n",
      "\n",
      "my_function(par1)\n",
      "    Comment of the function\n",
      "\n"
     ]
    }
   ],
   "source": [
    "help(my_function)"
   ]
  },
  {
   "cell_type": "code",
   "execution_count": 1,
   "metadata": {},
   "outputs": [],
   "source": [
    "class my_class:\n",
    "    \"\"\"\n",
    "    Here goes the definition of class\n",
    "    \"\"\"\n",
    "    def my_function(par1):\n",
    "        \"\"\"\n",
    "        Comment of the function\n",
    "\n",
    "        \"\"\"\n",
    "\n",
    "        return \"Return\"\n",
    "    def my_function_2(par2):\n",
    "        \"\"\"\n",
    "        Comment of the function2\n",
    "\n",
    "        \"\"\"\n",
    "        return par2"
   ]
  },
  {
   "cell_type": "code",
   "execution_count": 2,
   "metadata": {},
   "outputs": [
    {
     "name": "stdout",
     "output_type": "stream",
     "text": [
      "Help on class my_class in module __main__:\n",
      "\n",
      "class my_class(builtins.object)\n",
      " |  Here goes the definition of class\n",
      " |  \n",
      " |  Methods defined here:\n",
      " |  \n",
      " |  my_function(par1)\n",
      " |      Comment of the function\n",
      " |  \n",
      " |  my_function_2(par2)\n",
      " |      Comment of the function\n",
      " |  \n",
      " |  ----------------------------------------------------------------------\n",
      " |  Data descriptors defined here:\n",
      " |  \n",
      " |  __dict__\n",
      " |      dictionary for instance variables (if defined)\n",
      " |  \n",
      " |  __weakref__\n",
      " |      list of weak references to the object (if defined)\n",
      "\n"
     ]
    }
   ],
   "source": [
    "help(my_class)"
   ]
  },
  {
   "cell_type": "code",
   "execution_count": 3,
   "metadata": {},
   "outputs": [
    {
     "data": {
      "text/plain": [
       "'\\n    Here goes the definition of class\\n    '"
      ]
     },
     "execution_count": 3,
     "metadata": {},
     "output_type": "execute_result"
    }
   ],
   "source": [
    "my_class.__doc__"
   ]
  },
  {
   "cell_type": "code",
   "execution_count": null,
   "metadata": {},
   "outputs": [],
   "source": []
  }
 ],
 "metadata": {
  "kernelspec": {
   "display_name": "Python 3",
   "language": "python",
   "name": "python3"
  },
  "language_info": {
   "codemirror_mode": {
    "name": "ipython",
    "version": 3
   },
   "file_extension": ".py",
   "mimetype": "text/x-python",
   "name": "python",
   "nbconvert_exporter": "python",
   "pygments_lexer": "ipython3",
   "version": "3.8.3"
  }
 },
 "nbformat": 4,
 "nbformat_minor": 4
}
